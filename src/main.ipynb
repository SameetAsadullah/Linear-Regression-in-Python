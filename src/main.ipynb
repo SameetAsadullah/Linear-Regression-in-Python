{
 "cells": [
  {
   "cell_type": "markdown",
   "metadata": {
    "internals": {
     "slide_type": "subslide"
    },
    "slideshow": {
     "slide_type": "slide"
    }
   },
   "source": [
    "# Linear Regression\n"
   ]
  },
  {
   "cell_type": "code",
   "execution_count": 1,
   "metadata": {
    "internals": {},
    "slideshow": {
     "slide_type": "-"
    }
   },
   "outputs": [
    {
     "name": "stdout",
     "output_type": "stream",
     "text": [
      "Populating the interactive namespace from numpy and matplotlib\n"
     ]
    }
   ],
   "source": [
    "%pylab inline\n",
    "plt.style.use('ggplot')\n",
    "plt.rcParams['image.interpolation'] = 'nearest'"
   ]
  },
  {
   "cell_type": "markdown",
   "metadata": {},
   "source": [
    "$$ f(x) = x^4-4x^3+2 $$"
   ]
  },
  {
   "cell_type": "code",
   "execution_count": 2,
   "metadata": {},
   "outputs": [],
   "source": [
    "f=lambda x: x**4-4*x**3+2"
   ]
  },
  {
   "cell_type": "code",
   "execution_count": 3,
   "metadata": {
    "internals": {
     "slide_helper": "subslide_end",
     "slide_type": "subslide"
    },
    "slide_helper": "slide_end",
    "slideshow": {
     "slide_type": "slide"
    }
   },
   "outputs": [
    {
     "data": {
      "text/plain": [
       "[<matplotlib.lines.Line2D at 0x215887710d0>]"
      ]
     },
     "execution_count": 3,
     "metadata": {},
     "output_type": "execute_result"
    },
    {
     "data": {
      "image/png": "[encoded data removed]",
      "text/plain": [
       "<Figure size 432x288 with 1 Axes>"
      ]
     },
     "metadata": {},
     "output_type": "display_data"
    }
   ],
   "source": [
    "x=np.linspace(-5,5,1000)\n",
    "y= f(x)\n",
    "plt.plot(x,y)"
   ]
  },
  {
   "cell_type": "markdown",
   "metadata": {
    "internals": {
     "slide_type": "subslide"
    },
    "slideshow": {
     "slide_type": "slide"
    }
   },
   "source": [
    "### Brute-force Search\n",
    "Lets do a brute-force search for the given variable in the limit."
   ]
  },
  {
   "cell_type": "code",
   "execution_count": 4,
   "metadata": {
    "internals": {
     "frag_number": 5,
     "slide_helper": "subslide_end"
    },
    "slide_helper": "slide_end",
    "slideshow": {
     "slide_type": "fragment"
    }
   },
   "outputs": [
    {
     "name": "stdout",
     "output_type": "stream",
     "text": [
      "Local minimum occurs at 2.997997997997998\n"
     ]
    }
   ],
   "source": [
    "minimum=+inf\n",
    "mx=+inf\n",
    "import numpy as np\n",
    "\n",
    "\n",
    "for i in np.linspace(-5,5,1000):\n",
    "    if f(i)<minimum:\n",
    "        minimum=f(i)\n",
    "        mx=i\n",
    "\n",
    "\n",
    "print(\"Local minimum occurs at {}\".format(mx))"
   ]
  },
  {
   "cell_type": "markdown",
   "metadata": {
    "internals": {
     "frag_helper": "fragment_end",
     "frag_number": 5,
     "slide_type": "subslide"
    },
    "slideshow": {
     "slide_type": "slide"
    }
   },
   "source": [
    "### Gradient Descent"
   ]
  },
  {
   "cell_type": "code",
   "execution_count": 5,
   "metadata": {},
   "outputs": [],
   "source": [
    "def f_derivative(x):\n",
    "  \n",
    "    # Calculate the derivative and write your code here\n",
    "    first=(4*pow(x,3))\n",
    "    derivative=first+12*pow(x,2)\n",
    "    return derivative"
   ]
  },
  {
   "cell_type": "code",
   "execution_count": 6,
   "metadata": {
    "internals": {
     "frag_helper": "fragment_end",
     "frag_number": 7,
     "slide_helper": "subslide_end"
    },
    "slide_helper": "slide_end",
    "slideshow": {
     "slide_type": "fragment"
    }
   },
   "outputs": [
    {
     "name": "stdout",
     "output_type": "stream",
     "text": [
      "Local minimum occurs at [[0.10882824]]\n"
     ]
    }
   ],
   "source": [
    "x_old = 0\n",
    "x_new = np.random.rand(1,1) \n",
    "eps = 0.01 # step size\n",
    "precision = 0.00001\n",
    "\n",
    "for i in np.linspace(-5,5):\n",
    "    x_old=x_new\n",
    "    x_new=x_old-f_derivative(x_old)*eps\n",
    "    \n",
    "\n",
    "print (\"Local minimum occurs at\", x_new)"
   ]
  },
  {
   "cell_type": "markdown",
   "metadata": {
    "internals": {
     "frag_helper": "fragment_end",
     "frag_number": 7,
     "slide_helper": "subslide_end",
     "slide_type": "subslide"
    },
    "slide_helper": "slide_end",
    "slideshow": {
     "slide_type": "slide"
    }
   },
   "source": [
    "#### Always Check your gradient, before debugging gradient descent,\n",
    "\n",
    "We know that $$\\frac{\\partial f}{\\partial x}=\\frac{f(x+\\epsilon)-f(x)}{\\epsilon}$$\n",
    "\n",
    "So always compare the difference between computed gradient using this formula.\n"
   ]
  },
  {
   "cell_type": "markdown",
   "metadata": {
    "internals": {
     "frag_helper": "fragment_end",
     "frag_number": 7,
     "slide_type": "subslide"
    },
    "slideshow": {
     "slide_type": "slide"
    }
   },
   "source": [
    "#### Lets Check"
   ]
  },
  {
   "cell_type": "code",
   "execution_count": 7,
   "metadata": {
    "internals": {
     "frag_helper": "fragment_end",
     "frag_number": 10
    },
    "slideshow": {
     "slide_type": "fragment"
    }
   },
   "outputs": [
    {
     "name": "stdout",
     "output_type": "stream",
     "text": [
      "-13.500044999936732 40.5 -54.00004499993673\n"
     ]
    }
   ],
   "source": [
    "eps=0.00001\n",
    "x=1.5\n",
    "dfx=(f(x+eps)-f(x))/eps\n",
    "cdfx=f_derivative(x)\n",
    "\n",
    "print (dfx, cdfx, dfx-cdfx)"
   ]
  },
  {
   "cell_type": "markdown",
   "metadata": {},
   "source": [
    "### Let's generate some random data"
   ]
  },
  {
   "cell_type": "code",
   "execution_count": 8,
   "metadata": {},
   "outputs": [],
   "source": [
    "X = np.arange(0,5,0.1, dtype=np.float32)\n",
    "delta = np.random.uniform(-1,1, size=X.shape[0])\n",
    "Y = .4 * X + 3 + delta\n",
    "\n",
    "#making a copy for later use\n",
    "rx = X\n",
    "ry = Y"
   ]
  },
  {
   "cell_type": "code",
   "execution_count": 9,
   "metadata": {
    "internals": {
     "frag_helper": "fragment_end",
     "frag_number": 16,
     "slide_helper": "subslide_end"
    },
    "slide_helper": "slide_end",
    "slideshow": {
     "slide_type": "fragment"
    }
   },
   "outputs": [
    {
     "data": {
      "text/plain": [
       "Text(0, 0.5, 'Y')"
      ]
     },
     "execution_count": 9,
     "metadata": {},
     "output_type": "execute_result"
    },
    {
     "data": {
      "image/png": "[encoded data removed]",
      "text/plain": [
       "<Figure size 432x288 with 1 Axes>"
      ]
     },
     "metadata": {},
     "output_type": "display_data"
    }
   ],
   "source": [
    "plt.scatter(X,Y)\n",
    "plt.xlabel('X')\n",
    "plt.ylabel('Y')"
   ]
  },
  {
   "cell_type": "markdown",
   "metadata": {},
   "source": [
    "### Time for our regression implementation"
   ]
  },
  {
   "cell_type": "markdown",
   "metadata": {},
   "source": [
    "$$\n",
    "h(X, \\theta) = X^T . \\theta\n",
    "$$"
   ]
  },
  {
   "cell_type": "code",
   "execution_count": 98,
   "metadata": {},
   "outputs": [],
   "source": [
    "def hyp(theta, X):\n",
    "    return numpy.dot(X, theta)"
   ]
  },
  {
   "cell_type": "markdown",
   "metadata": {},
   "source": [
    "$$\n",
    "cost = \\frac{1}{2m} \\sum_{i = 0}^m{(h(X^i, \\theta)-Y^i)}^2\n",
    "$$"
   ]
  },
  {
   "cell_type": "code",
   "execution_count": 99,
   "metadata": {
    "internals": {
     "frag_helper": "fragment_end",
     "frag_number": 21
    },
    "slideshow": {
     "slide_type": "-"
    }
   },
   "outputs": [],
   "source": [
    "def cost_function(theta,X,Y):\n",
    "    cost = numpy.sum(numpy.power(hyp(theta, X) - Y, 2))\n",
    "    cost /= (2 * X.shape[0])\n",
    "    return cost"
   ]
  },
  {
   "cell_type": "markdown",
   "metadata": {},
   "source": [
    "$$\n",
    "\\frac{\\delta}{\\delta \\theta_j} = \\frac{1}{m} \\sum_{i = 0}^m{(h(X^i, \\theta)-Y^i)} * X_j\n",
    "$$"
   ]
  },
  {
   "cell_type": "code",
   "execution_count": 100,
   "metadata": {
    "internals": {
     "frag_helper": "fragment_end",
     "frag_number": 21
    },
    "slideshow": {
     "slide_type": "-"
    }
   },
   "outputs": [],
   "source": [
    "def derivative_cost_function(theta,X,Y):\n",
    "    cost = numpy.sum(numpy.dot(hyp(theta, X) - Y, X))\n",
    "    cost /= X.shape[0]\n",
    "    return cost"
   ]
  },
  {
   "cell_type": "markdown",
   "metadata": {},
   "source": [
    "*** Give Temporary values to cost function and derivative cost function before getting onto gradiant descent***\n",
    "\n",
    "*** To make sure that your both function are working fine ***"
   ]
  },
  {
   "cell_type": "code",
   "execution_count": 101,
   "metadata": {
    "internals": {
     "frag_helper": "fragment_end",
     "frag_number": 21
    },
    "slideshow": {
     "slide_type": "-"
    }
   },
   "outputs": [
    {
     "name": "stdout",
     "output_type": "stream",
     "text": [
      "(50,)\n",
      "(50, 2)\n"
     ]
    }
   ],
   "source": [
    "print (X.shape)\n",
    "nx=np.hstack((X,ones(len(X),)))\n",
    "nx=nx.reshape((2,X.shape[0])).T\n",
    "print (nx.shape)"
   ]
  },
  {
   "cell_type": "code",
   "execution_count": 102,
   "metadata": {
    "internals": {
     "frag_helper": "fragment_end",
     "frag_number": 21
    },
    "slideshow": {
     "slide_type": "-"
    }
   },
   "outputs": [
    {
     "name": "stdout",
     "output_type": "stream",
     "text": [
      "[0.5881308  0.89771373]\n"
     ]
    }
   ],
   "source": [
    "np.random.seed(20) # To make sure you have the same value as me\n",
    "eps=0.0001\n",
    "nexamples=float(nx.shape[0])\n",
    "thetas=np.random.rand(nx.shape[1],)\n",
    "print (thetas)"
   ]
  },
  {
   "cell_type": "code",
   "execution_count": 103,
   "metadata": {
    "internals": {
     "frag_helper": "fragment_end",
     "frag_number": 21
    },
    "slideshow": {
     "slide_type": "-"
    }
   },
   "outputs": [
    {
     "name": "stdout",
     "output_type": "stream",
     "text": [
      "1.5184678058336758\n"
     ]
    }
   ],
   "source": [
    "cf=cost_function(thetas,nx,Y)\n",
    "print (cf)"
   ]
  },
  {
   "cell_type": "code",
   "execution_count": 104,
   "metadata": {
    "internals": {
     "frag_helper": "fragment_end",
     "frag_number": 21
    },
    "slideshow": {
     "slide_type": "-"
    }
   },
   "outputs": [
    {
     "name": "stdout",
     "output_type": "stream",
     "text": [
      "-5.16160594540088\n"
     ]
    }
   ],
   "source": [
    "ad=derivative_cost_function(thetas,nx,Y)\n",
    "print (ad)"
   ]
  },
  {
   "cell_type": "code",
   "execution_count": 105,
   "metadata": {
    "internals": {
     "frag_helper": "fragment_end",
     "frag_number": 21
    },
    "scrolled": true,
    "slideshow": {
     "slide_type": "-"
    }
   },
   "outputs": [],
   "source": [
    "#Gradient Descent...\n",
    "def GradientDescent(X,Y,maxniter=20000):\n",
    "    nexamples=float(X.shape[0])\n",
    "    thetas=rand(X.shape[1],)\n",
    "    \n",
    "    alpha=0.01\n",
    "    numiter=400\n",
    "    xTrans = X.transpose()\n",
    "    for i in range(0, numiter):\n",
    "        hypothesis = hyp(thetas,X)\n",
    "        loss = hypothesis.transpose() - Y\n",
    "        Cost = sum(loss**2)/2.0*nexamples\n",
    "        print (Cost)\n",
    "        gradiants = numpy.dot(loss, X) / nexamples\n",
    "        thetas = thetas - alpha * gradiants\n",
    "    return thetas"
   ]
  },
  {
   "cell_type": "code",
   "execution_count": 106,
   "metadata": {},
   "outputs": [
    {
     "name": "stdout",
     "output_type": "stream",
     "text": [
      "2225.6512851792463\n",
      "2163.6455799592673\n",
      "2110.984552821129\n",
      "2066.0928192351807\n",
      "2027.661464481525\n",
      "1994.6029672199793\n",
      "1966.0137482756384\n",
      "1941.1430547438404\n",
      "1919.3671077196168\n",
      "1900.1676232467264\n",
      "1883.1139667039893\n",
      "1867.848325989637\n",
      "1854.0733928379532\n",
      "1841.5421279877023\n",
      "1830.049257693948\n",
      "1819.4242087058526\n",
      "1809.5252383767847\n",
      "1800.2345577358283\n",
      "1791.4542795494342\n",
      "1783.103051816279\n",
      "1775.1132607461266\n",
      "1767.4287068876868\n",
      "1760.0026743666572\n",
      "1752.7963267346865\n",
      "1745.7773741791198\n",
      "1738.9189661896055\n",
      "1732.1987715428663\n",
      "1725.598213918507\n",
      "1719.1018368190423\n",
      "1712.6967759207712\n",
      "1706.372320682303\n",
      "1700.1195501117395\n",
      "1693.9310301476862\n",
      "1687.8005622313924\n",
      "1681.7229744104172\n",
      "1675.6939477791238\n",
      "1669.7098722783444\n",
      "1663.767726887776\n",
      "1657.864980084776\n",
      "1651.9995071412686\n",
      "1646.1695214103834\n",
      "1640.3735172363117\n",
      "1634.6102225211673\n",
      "1628.8785593152604\n",
      "1623.1776110735293\n",
      "1617.506595450472\n",
      "1611.864841696681\n",
      "1606.2517718785557\n",
      "1600.6668852744751\n",
      "1595.109745410081\n",
      "1589.5799692862465\n",
      "1584.077218428811\n",
      "1578.601191451906\n",
      "1573.15161787884\n",
      "1567.7282530078035\n",
      "1562.3308736456643\n",
      "1556.9592745629932\n",
      "1551.6132655483311\n",
      "1546.292668960321\n",
      "1540.9973176934936\n",
      "1535.727053487728\n",
      "1530.4817255232585\n",
      "1525.2611892529228\n",
      "1520.065305431523\n",
      "1514.8939393089552\n",
      "1509.7469599594071\n",
      "1504.6242397236126\n",
      "1499.5256537450314\n",
      "1494.4510795840763\n",
      "1489.40039689718\n",
      "1484.3734871697397\n",
      "1479.3702334938282\n",
      "1474.390520383093\n",
      "1469.434233618566\n",
      "1464.5012601201445\n",
      "1459.5914878394162\n",
      "1454.7048056702054\n",
      "1449.8411033738555\n",
      "1445.000271516752\n",
      "1440.182201418018\n",
      "1435.3867851056623\n",
      "1430.6139152797557\n",
      "1425.8634852814428\n",
      "1421.1353890668088\n",
      "1416.4295211847805\n",
      "1411.745776758379\n",
      "1407.0840514687611\n",
      "1402.4442415415806\n",
      "1397.826243735272\n",
      "1393.2299553309463\n",
      "1388.65527412361\n",
      "1384.1020984145046\n",
      "1379.5703270043616\n",
      "1375.0598591874345\n",
      "1370.5705947461643\n",
      "1366.1024339463866\n",
      "1361.655277532978\n",
      "1357.2290267258809\n",
      "1352.8235832164314\n",
      "1348.4388491639552\n",
      "1344.0747271925757\n",
      "1339.731120388206\n",
      "1335.4079322956957\n",
      "1331.105066916104\n",
      "1326.8224287040853\n",
      "1322.559922565361\n",
      "1318.3174538542796\n",
      "1314.094928371431\n",
      "1309.8922523613269\n",
      "1305.7093325101273\n",
      "1301.5460759434088\n",
      "1297.4023902239687\n",
      "1293.2781833496654\n",
      "1289.1733637512802\n",
      "1285.0878402904127\n",
      "1281.0215222573904\n",
      "1276.9743193692052\n",
      "1272.946141767463\n",
      "1268.936900016353\n",
      "1264.9465051006339\n",
      "1260.9748684236297\n",
      "1257.0219018052426\n",
      "1253.0875174799794\n",
      "1249.1716280949875\n",
      "1245.2741467081032\n",
      "1241.3949867859128\n",
      "1237.5340622018205\n",
      "1233.6912872341327\n",
      "1229.866576564147\n",
      "1226.0598452742533\n",
      "1222.2710088460453\n",
      "1218.499983158441\n",
      "1214.7466844858104\n",
      "1211.0110294961166\n",
      "1207.2929352490617\n",
      "1203.5923191942459\n",
      "1199.9090991693322\n",
      "1196.2431933982207\n",
      "1192.5945204892332\n",
      "1188.962999433305\n",
      "1185.3485496021847\n",
      "1181.7510907466456\n",
      "1178.1705429947015\n",
      "1174.6068268498334\n",
      "1171.0598631892265\n",
      "1167.5295732620095\n",
      "1164.0158786875097\n",
      "1160.5187014535086\n",
      "1157.0379639145133\n",
      "1153.57358879003\n",
      "1150.1254991628512\n",
      "1146.6936184773435\n",
      "1143.2778705377516\n",
      "1139.878179506504\n",
      "1136.494469902531\n",
      "1133.126666599588\n",
      "1129.7746948245867\n",
      "1126.438480155937\n",
      "1123.1179485218927\n",
      "1119.8130261989072\n",
      "1116.5236398099983\n",
      "1113.249716323117\n",
      "1109.9911830495264\n",
      "1106.74796764219\n",
      "1103.5199980941613\n",
      "1100.307202736989\n",
      "1097.1095102391243\n",
      "1093.9268496043373\n",
      "1090.7591501701386\n",
      "1087.6063416062148\n",
      "1084.4683539128628\n",
      "1081.3451174194383\n",
      "1078.2365627828083\n",
      "1075.14262098581\n",
      "1072.0632233357212\n",
      "1068.9983014627326\n",
      "1065.9477873184321\n",
      "1062.9116131742908\n",
      "1059.889711620163\n",
      "1056.8820155627875\n",
      "1053.888458224298\n",
      "1050.9089731407398\n",
      "1047.9434941605969\n",
      "1044.9919554433209\n",
      "1042.0542914578682\n",
      "1039.1304369812485\n",
      "1036.220327097074\n",
      "1033.3238971941191\n",
      "1030.4410829648853\n",
      "1027.5718204041748\n",
      "1024.716045807667\n",
      "1021.8736957705062\n",
      "1019.0447071858941\n",
      "1016.229017243686\n",
      "1013.4265634290002\n",
      "1010.6372835208263\n",
      "1007.8611155906456\n",
      "1005.0979980010563\n",
      "1002.3478694044046\n",
      "999.6106687414226\n",
      "996.8863352398721\n",
      "994.1748084131964\n",
      "991.476028059177\n",
      "988.7899342585964\n",
      "986.1164673739087\n",
      "983.4555680479137\n",
      "980.8071772024426\n",
      "978.1712360370417\n",
      "975.5476860276704\n",
      "972.9364689254007\n",
      "970.3375267551233\n",
      "967.7508018142623\n",
      "965.1762366714909\n",
      "962.6137741654595\n",
      "960.0633574035248\n",
      "957.5249297604872\n",
      "954.9984348773334\n",
      "952.4838166599858\n",
      "949.9810192780552\n",
      "947.489987163604\n",
      "945.01066500991\n",
      "942.5429977702397\n",
      "940.0869306566259\n",
      "937.6424091386515\n",
      "935.2093789422377\n",
      "932.7877860484407\n",
      "930.3775766922513\n",
      "927.978697361401\n",
      "925.5910947951747\n",
      "923.2147159832276\n",
      "920.849508164409\n",
      "918.495418825589\n",
      "916.1523957004947\n",
      "913.820386768549\n",
      "911.4993402537158\n",
      "909.1892046233495\n",
      "906.889928587052\n",
      "904.6014610955338\n",
      "902.3237513394794\n",
      "900.0567487484211\n",
      "897.8004029896147\n",
      "895.5546639669226\n",
      "893.3194818197017\n",
      "891.0948069216955\n",
      "888.8805898799338\n",
      "886.6767815336351\n",
      "884.4833329531145\n",
      "882.3001954386983\n",
      "880.127320519643\n",
      "877.9646599530581\n",
      "875.8121657228362\n",
      "873.6697900385856\n",
      "871.5374853345697\n",
      "869.4152042686524\n",
      "867.3028997212447\n",
      "865.2005247942598\n",
      "863.1080328100716\n",
      "861.0253773104783\n",
      "858.9525120556715\n",
      "856.8893910232083\n",
      "854.835968406991\n",
      "852.7921986162488\n",
      "850.7580362745266\n",
      "848.7334362186768\n",
      "846.7183534978567\n",
      "844.7127433725307\n",
      "842.7165613134769\n",
      "840.7297630007993\n",
      "838.7523043229413\n",
      "836.7841413757095\n",
      "834.8252304612967\n",
      "832.8755280873123\n",
      "830.9349909658172\n",
      "829.0035760123619\n",
      "827.0812403450303\n",
      "825.1679412834882\n",
      "823.2636363480344\n",
      "821.3682832586585\n",
      "819.4818399341023\n",
      "817.6042644909245\n",
      "815.7355152425719\n",
      "813.8755506984537\n",
      "812.0243295630195\n",
      "810.181810734843\n",
      "808.3479533057094\n",
      "806.5227165597078\n",
      "804.7060599723252\n",
      "802.89794320955\n",
      "801.0983261269731\n",
      "799.3071687688984\n",
      "797.5244313674559\n",
      "795.750074341718\n",
      "793.984058296821\n",
      "792.2263440230905\n",
      "790.4768924951704\n",
      "788.7356648711577\n",
      "787.0026224917382\n",
      "785.2777268793294\n",
      "783.560939737227\n",
      "781.8522229487528\n",
      "780.1515385764092\n",
      "778.4588488610373\n",
      "776.774116220978\n",
      "775.0973032512384\n",
      "773.4283727226597\n",
      "771.7672875810929\n",
      "770.114010946574\n",
      "768.468506112506\n",
      "766.8307365448445\n",
      "765.2006658812862\n",
      "763.5782579304612\n",
      "761.963476671129\n",
      "760.3562862513803\n",
      "758.75665098784\n",
      "757.1645353648748\n",
      "755.5799040338055\n",
      "754.0027218121206\n",
      "752.4329536826975\n",
      "750.8705647930227\n",
      "749.3155204544194\n",
      "747.7677861412772\n",
      "746.2273274902851\n",
      "744.6941102996685\n",
      "743.1681005284304\n",
      "741.6492642955952\n",
      "740.137567879457\n",
      "738.6329777168302\n",
      "737.1354604023044\n",
      "735.6449826875028\n",
      "734.1615114803445\n",
      "732.6850138443095\n",
      "731.2154569977072\n",
      "729.7528083129481\n",
      "728.2970353158213\n",
      "726.8481056847708\n",
      "725.4059872501804\n",
      "723.9706479936575\n",
      "722.5420560473239\n",
      "721.1201796931068\n",
      "719.7049873620352\n",
      "718.2964476335394\n",
      "716.8945292347527\n",
      "715.4992010398171\n",
      "714.1104320691934\n",
      "712.7281914889717\n",
      "711.3524486101876\n",
      "709.9831728881412\n",
      "708.6203339217183\n",
      "707.2639014527157\n",
      "705.9138453651693\n",
      "704.5701356846863\n",
      "703.2327425777772\n",
      "701.9016363511978\n",
      "700.5767874512844\n",
      "699.2581664633025\n",
      "697.9457441107909\n",
      "696.6394912549134\n",
      "695.3393788938101\n",
      "694.0453781619549\n",
      "692.757460329514\n",
      "691.475596801708\n",
      "690.1997591181771\n",
      "688.9299189523502\n",
      "687.6660481108142\n",
      "686.4081185326884\n",
      "685.1561022890033\n",
      "683.909971582079\n",
      "682.6696987449075\n",
      "681.4352562405394\n",
      "680.2066166614724\n",
      "678.9837527290429\n",
      "677.7666372928203\n",
      "676.5552433300027\n",
      "675.3495439448197\n",
      "674.1495123679335\n",
      "672.9551219558449\n",
      "671.7663461903006\n",
      "670.583158677707\n",
      "669.4055331485422\n",
      "668.2334434567732\n",
      "667.0668635792756\n",
      "665.9057676152554\n",
      "664.7501297856747\n",
      "663.5999244326791\n",
      "662.4551260190275\n",
      "661.315709127525\n",
      "660.18164846046\n",
      "659.0529188390409\n",
      "657.9294952028379\n",
      "656.8113526092266\n",
      "655.6984662328338\n",
      "654.5908113649871\n",
      "653.4883634131652\n",
      "652.3910979004523\n",
      "651.2989904649961\n",
      "650.2120168594643\n",
      "649.1301529505077\n",
      "648.0533747182257\n",
      "646.9816582556293\n",
      "645.9149797681149\n"
     ]
    }
   ],
   "source": [
    "theta_new=GradientDescent(nx,Y)"
   ]
  },
  {
   "cell_type": "code",
   "execution_count": 107,
   "metadata": {},
   "outputs": [
    {
     "data": {
      "text/plain": [
       "[<matplotlib.lines.Line2D at 0x21588e7a4f0>]"
      ]
     },
     "execution_count": 107,
     "metadata": {},
     "output_type": "execute_result"
    },
    {
     "data": {
      "image/png": "[encoded data removed]",
      "text/plain": [
       "<Figure size 432x288 with 1 Axes>"
      ]
     },
     "metadata": {},
     "output_type": "display_data"
    }
   ],
   "source": [
    "plt.scatter(X,Y)\n",
    "plt.xlabel('X')\n",
    "plt.ylabel('Y')\n",
    "plt.plot(nx[:,0],np.dot(nx,theta_new))"
   ]
  },
  {
   "cell_type": "code",
   "execution_count": null,
   "metadata": {},
   "outputs": [],
   "source": []
  },
  {
   "cell_type": "code",
   "execution_count": null,
   "metadata": {},
   "outputs": [],
   "source": []
  }
 ],
 "metadata": {
  "kernelspec": {
   "display_name": "Python 3",
   "language": "python",
   "name": "python3"
  },
  "language_info": {
   "codemirror_mode": {
    "name": "ipython",
    "version": 3
   },
   "file_extension": ".py",
   "mimetype": "text/x-python",
   "name": "python",
   "nbconvert_exporter": "python",
   "pygments_lexer": "ipython3",
   "version": "3.8.5"
  }
 },
 "nbformat": 4,
 "nbformat_minor": 1
}
